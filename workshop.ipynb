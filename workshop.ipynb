{
 "cells": [
  {
   "cell_type": "markdown",
   "metadata": {},
   "source": [
    "# File Versioning for Code with Git and GitHub\n",
    "\n",
    "Welcome to the workshop on \"File Versioning for Code with Git and GitHub\"! If you have managed to open this jupyter notebook inside your browser you have already learned how to: install and set up python, jupyter, git and gitkraken. Furthermore you have forked and cloned a repository and started jupyter successfully! Congratulations!\n",
    "\n",
    "Using this jupyter notebook we'll implement some scripts that manipulate .csv files and learn the git basics.\n",
    "\n",
    "Have fun :)!"
   ]
  },
  {
   "cell_type": "code",
   "execution_count": 14,
   "metadata": {},
   "outputs": [],
   "source": [
    "import csv\n",
    "\n",
    "def readCsvData(path):\n",
    "    data = []\n",
    "    with open(path, newline='') as csvFile:\n",
    "        csvReader = csv.reader(csvFile, delimiter=';', quotechar='|')\n",
    "        for line in csvReader:\n",
    "            data.append(line)\n",
    "    return data\n",
    "\n",
    "def writeCsvData(path, data):\n",
    "    with open(path, 'w', newline='') as csvFile:\n",
    "        csvWriter = csv.writer(csvFile, delimiter=';', quotechar='|', quoting=csv.QUOTE_MINIMAL)\n",
    "        for line in data:\n",
    "            csvWriter.writerow(line)"
   ]
  },
  {
   "cell_type": "code",
   "execution_count": 15,
   "metadata": {},
   "outputs": [
    {
     "name": "stdout",
     "output_type": "stream",
     "text": [
      "[['846', '50'], ['869', '47'], ['892', '44'], ['915', '41'], ['938', '38'], ['961', '35'], ['984', '32'], ['1007', '29'], ['1030', '26'], ['1053', '23'], ['1076', '20'], ['1099', '17'], ['1122', '14'], ['1145', '11']]\n"
     ]
    }
   ],
   "source": [
    "csvData = readCsvData('raw-data2.csv');\n",
    "print(csvData)"
   ]
  },
  {
   "cell_type": "code",
   "execution_count": null,
   "metadata": {},
   "outputs": [],
   "source": [
    "def prod(a, b):\n",
    "    return a * b\n",
    "\n",
    "def prodLine(line):\n",
    "    firstValueOfLine = int(line[0])\n",
    "    secondValueOfLine = int(line[1])\n",
    "    return prod(firstValueOfLine, secondValueOfLine)"
   ]
  },
  {
   "cell_type": "code",
   "execution_count": null,
   "metadata": {},
   "outputs": [],
   "source": [
    "import copy\n",
    "\n",
    "csvDataWithSums = copy.deepcopy(csvData)\n",
    "\n",
    "for line in csvDataWithSums:\n",
    "    prodOfLine = prodLine(line)\n",
    "    line.append(prodOfLine)\n",
    "    \n",
    "print(csvDataWithSums)"
   ]
  },
  {
   "cell_type": "code",
   "execution_count": 16,
   "metadata": {},
   "outputs": [],
   "source": [
    "def div(a, b):\n",
    "    return a / b\n",
    "\n",
    "def divLine(line):\n",
    "    firstValueOfLine = int(line[0])\n",
    "    secondValueOfLine = int(line[1])\n",
    "    return div(firstValueOfLine, secondValueOfLine)"
    "def subt(a, b):\n",
    "    return a - b\n",
    "\n",
    "def subtLine(line):\n",
    "    firstValueOfLine = int(line[0])\n",
    "    secondValueOfLine = int(line[1])\n",
    "    return subt(firstValueOfLine, secondValueOfLine)"
   ]
  },
  {
   "cell_type": "code",
   "execution_count": null,
   "metadata": {},
   "outputs": [],
   "source": [
    "import copy\n",
    "\n",
    "csvDataWithSums = copy.deepcopy(csvData)\n",
    "\n",
    "for line in csvDataWithSums:\n",
    "    subtOfLine = suubtLine(line)\n",
    "    line.append(subtOfLine)\n",
    "    \n",
    "print(csvDataWithSums)"
   ]
  },
  {
   "cell_type": "code",
   "execution_count": null,
   "metadata": {},
   "outputs": [],
   "source": [
    "writeCsvData('result-data.csv', csvDataWithSums)"
   ]
  },
  {
   "cell_type": "code",
   "execution_count": 17,
   "metadata": {},
   "outputs": [
    {
     "name": "stdout",
     "output_type": "stream",
     "text": [
      "[['846', '50', 16.92], ['869', '47', 18.48936170212766], ['892', '44', 20.272727272727273], ['915', '41', 22.317073170731707], ['938', '38', 24.68421052631579], ['961', '35', 27.457142857142856], ['984', '32', 30.75], ['1007', '29', 34.724137931034484], ['1030', '26', 39.61538461538461], ['1053', '23', 45.78260869565217], ['1076', '20', 53.8], ['1099', '17', 64.6470588235294], ['1122', '14', 80.14285714285714], ['1145', '11', 104.0909090909091]]\n"
     ]
    }
   ],
   "source": [
    "import copy\n",
    "\n",
    "csvDataWithSums = copy.deepcopy(csvData)\n",
    "\n",
    "for line in csvDataWithSums:\n",
    "    divOfLine = divLine(line)\n",
    "    line.append(divOfLine)\n",
    "    \n",
    "print(csvDataWithSums)"
   ]
  },
  {
   "cell_type": "code",
   "execution_count": 18,
   "metadata": {},
   "outputs": [],
   "source": [
    "writeCsvData('result-data.csv', csvDataWithSums)\n"
   ]
  },
  {
   "cell_type": "code",
   "execution_count": null,
   "metadata": {},
   "outputs": [],
   "source": []
  }
 ],
 "metadata": {
  "kernelspec": {
   "display_name": "Python 3",
   "language": "python",
   "name": "python3"
  },
  "language_info": {
   "codemirror_mode": {
    "name": "ipython",
    "version": 3
   },
   "file_extension": ".py",
   "mimetype": "text/x-python",
   "name": "python",
   "nbconvert_exporter": "python",
   "pygments_lexer": "ipython3",
   "version": "3.9.0"
  }
 },
 "nbformat": 4,
 "nbformat_minor": 4
}
