{
 "cells": [
  {
   "cell_type": "markdown",
   "metadata": {},
   "source": [
    "# File Versioning for Code with Git and GitHub\n",
    "\n",
    "Welcome to the workshop on \"File Versioning for Code with Git and GitHub\"! If you have managed to open this jupyter notebook inside your browser you have already learned how to: install and set up python, jupyter, git and gitkraken. Furthermore you have forked and cloned a repository and started jupyter successfully! Congratulations!\n",
    "\n",
    "Using this jupyter notebook we'll implement some scripts that manipulate .csv files and learn the git basics.\n",
    "\n",
    "Have fun :)!"
   ]
  },
  {
   "cell_type": "code",
   "execution_count": null,
   "metadata": {},
   "outputs": [],
   "source": [
    "import csv\n",
    "\n",
    "def readCsvData(path):\n",
    "    data = []\n",
    "    with open(path, newline='') as csvFile:\n",
    "        csvReader = csv.reader(csvFile, delimiter=';', quotechar='|')\n",
    "        for line in csvReader:\n",
    "            data.append(line)\n",
    "    return data\n",
    "\n",
    "def writeCsvData(path, data):\n",
    "    with open(path, 'w', newline='') as csvFile:\n",
    "        csvWriter = csv.writer(csvFile, delimiter=';', quotechar='|', quoting=csv.QUOTE_MINIMAL)\n",
    "        for line in data:\n",
    "            csvWriter.writerow(line)"
   ]
  },
  {
   "cell_type": "code",
   "execution_count": null,
   "metadata": {},
   "outputs": [],
   "source": [
    "csvData = readCsvData('raw-data2.csv');\n",
    "print(csvData)"
   ]
  },
  {
   "cell_type": "code",
   "execution_count": null,
   "metadata": {},
   "outputs": [],
   "source": [
    "def prod(a, b):\n",
    "    return a * b\n",
    "\n",
    "def prodLine(line):\n",
    "    firstValueOfLine = int(line[0])\n",
    "    secondValueOfLine = int(line[1])\n",
    "    return prod(firstValueOfLine, secondValueOfLine)"
   ]
  },
  {
   "cell_type": "code",
   "execution_count": null,
   "metadata": {},
   "outputs": [],
   "source": [
    "import copy\n",
    "\n",
    "csvDataWithSums = copy.deepcopy(csvData)\n",
    "\n",
    "for line in csvDataWithSums:\n",
    "    prodOfLine = prodLine(line)\n",
    "    line.append(prodOfLine)\n",
    "    \n",
    "print(csvDataWithSums)"
   ]
  },
  {
   "cell_type": "code",
   "execution_count": null,
   "metadata": {},
   "outputs": [],
   "source": [
    "writeCsvData('result-data.csv', csvDataWithSums)\n"
   ]
  }
 ],
 "metadata": {
  "kernelspec": {
   "display_name": "Python 3",
   "language": "python",
   "name": "python3"
  },
  "language_info": {
   "codemirror_mode": {
    "name": "ipython",
    "version": 3
   },
   "file_extension": ".py",
   "mimetype": "text/x-python",
   "name": "python",
   "nbconvert_exporter": "python",
   "pygments_lexer": "ipython3",
   "version": "3.9.0"
  }
 },
 "nbformat": 4,
 "nbformat_minor": 4
}
